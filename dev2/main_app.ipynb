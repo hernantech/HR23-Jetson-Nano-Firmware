{
 "cells": [
  {
   "cell_type": "code",
   "execution_count": 14,
   "id": "147c8577-03dd-4961-8792-e05b82b4d20b",
   "metadata": {
    "tags": []
   },
   "outputs": [],
   "source": [
    "#Main finite state machine\n",
    "\n",
    "\n",
    "def __main__():\n",
    "    initializeHW()\n",
    "    initializeConnections()\n",
    "    initializeVariables()\n",
    "    while(True):\n",
    "        try:\n",
    "            tickfunctionality()\n",
    "        except:\n",
    "            print(\"an error has occurred\")"
   ]
  },
  {
   "cell_type": "code",
   "execution_count": 3,
   "id": "efa6dd62-b6e4-468a-a150-04502eff9473",
   "metadata": {
    "tags": []
   },
   "outputs": [],
   "source": [
    "#Initialize hardware\n",
    "\n",
    "def initializeHW():\n",
    "    print(\"initializing\")\n",
    "    #function to check and initialize CAN\n",
    "        #likely running shell scripts\n",
    "    #function to check and initialize Serial\n",
    "        #likely running shell scripts\n",
    "    print(\"Hardware successfully initialized\")"
   ]
  },
  {
   "cell_type": "code",
   "execution_count": 4,
   "id": "88243dcc-54d8-4689-b6d1-b0b8ca23855f",
   "metadata": {
    "tags": []
   },
   "outputs": [],
   "source": [
    "#Initialize connections I/O\n",
    "\n",
    "def initializeConnections():\n",
    "    print(\"initialized connections\")\n",
    "    #function to check connections, i.e. both in AND out work(maybe an echo function)\n",
    "    print(\"connections initialized\")"
   ]
  },
  {
   "cell_type": "code",
   "execution_count": null,
   "id": "999fd35c-9f7e-402d-8c03-7ec53e8976be",
   "metadata": {
    "tags": []
   },
   "outputs": [],
   "source": [
    "#Initialize connections I/O\n",
    "\n",
    "def initializeVariables():\n",
    "    print(\"initialized Variables\")\n",
    "    #call class initializer and set variables to their default values\n",
    "    #variables will most likely be in application's init and this function will call init then proceed to set variables to the new values"
   ]
  },
  {
   "cell_type": "code",
   "execution_count": 147,
   "id": "b68be202-5950-463b-af1f-c38a38555216",
   "metadata": {
    "tags": []
   },
   "outputs": [],
   "source": [
    "#set tick functionality, i.e. tick()\n",
    "def tickfunctionality():\n",
    "    print(\"another day, another tick\")\n",
    "    #run tick functions, likely from application\n",
    "    Application.tick()\n",
    "    #check avlues and"
   ]
  },
  {
   "cell_type": "code",
   "execution_count": 4,
   "id": "b70df77b-3363-4f4b-9bdb-31bcbee04f7f",
   "metadata": {},
   "outputs": [],
   "source": [
    "import numpy as np\n",
    "\n",
    "class Application():\n",
    "    def __init__(self, profile=0): # setting default value to zero for speed/torque profile\n",
    "        #self.array = array\n",
    "        self.profile = profile #int value which sets the profile on startup\n",
    "        self.buffer = np.array() #setting to 2d vector of [msgID, data], (reset each tick?)\n",
    "        ##likely need to switch to numpy arrays\n",
    "\n",
    "        \n",
    "        #if profile == 1:\n",
    "            #set some shit to slow/limp mode\n",
    "        #if profile == 2:\n",
    "            #party mode\n",
    "            #do not check faults, run raw pedal:torque mapping (1-1)\n",
    "        self.testvalue = 2\n",
    "        #hardcoded RUN faults below\n",
    "        #RUN fault code ID is 0x0AB\n",
    "        self.faultID = 0x0AB\n",
    "        #msg 0x0AB should be all zero's per Cascadia's CAN protocol (pg 28-29)\n",
    "    def tick(self):\n",
    "        self.checkfaults()\n",
    "        self.updateValues()\n",
    "    def calcAccel(self):\n",
    "        #pull data from buffer\n",
    "        #check for value jumps between ticks\n",
    "        print(\"calculating acceleration\")\n",
    "    def calcTorque(self):\n",
    "        #sends torque out via CAN\n",
    "        print(\"calculating accel -> torque\")\n",
    "    def updateValues(self):\n",
    "        print(\"updating buffer values\")\n",
    "        #pull from buffer\n",
    "        #run checks\n",
    "    def checkfaults(self):\n",
    "        #check buffer against fault codes\n",
    "        #may need quick way to do so.\n",
    "        #maybe quick probabilistic check to see/guarantee whether it's in or not\n",
    "        #preliminary code:\n",
    "            #decision tree\n",
    "        if self.faultID in self.buffer[0]:\n",
    "            print(\"fault has occured and we may be fucked\")\n",
    "        else:\n",
    "            print(\"no fault so far\")"
   ]
  },
  {
   "cell_type": "code",
   "execution_count": 5,
   "id": "1a006e45-94bb-4b33-8d30-d19ed5022932",
   "metadata": {
    "collapsed": true,
    "jupyter": {
     "outputs_hidden": true
    },
    "tags": []
   },
   "outputs": [
    {
     "ename": "TypeError",
     "evalue": "array() missing required argument 'object' (pos 0)",
     "output_type": "error",
     "traceback": [
      "\u001b[0;31m---------------------------------------------------------------------------\u001b[0m",
      "\u001b[0;31mTypeError\u001b[0m                                 Traceback (most recent call last)",
      "Cell \u001b[0;32mIn[5], line 1\u001b[0m\n\u001b[0;32m----> 1\u001b[0m application \u001b[38;5;241m=\u001b[39m \u001b[43mApplication\u001b[49m\u001b[43m(\u001b[49m\u001b[43m)\u001b[49m\n\u001b[1;32m      2\u001b[0m \u001b[38;5;66;03m#application.calcTorque()\u001b[39;00m\n\u001b[1;32m      3\u001b[0m \u001b[38;5;28mprint\u001b[39m(application\u001b[38;5;241m.\u001b[39mprofile)\n",
      "Cell \u001b[0;32mIn[4], line 7\u001b[0m, in \u001b[0;36mApplication.__init__\u001b[0;34m(self, profile)\u001b[0m\n\u001b[1;32m      4\u001b[0m \u001b[38;5;28;01mdef\u001b[39;00m \u001b[38;5;21m__init__\u001b[39m(\u001b[38;5;28mself\u001b[39m, profile\u001b[38;5;241m=\u001b[39m\u001b[38;5;241m0\u001b[39m): \u001b[38;5;66;03m# setting default value to zero for speed/torque profile\u001b[39;00m\n\u001b[1;32m      5\u001b[0m     \u001b[38;5;66;03m#self.array = array\u001b[39;00m\n\u001b[1;32m      6\u001b[0m     \u001b[38;5;28mself\u001b[39m\u001b[38;5;241m.\u001b[39mprofile \u001b[38;5;241m=\u001b[39m profile \u001b[38;5;66;03m#int value which sets the profile on startup\u001b[39;00m\n\u001b[0;32m----> 7\u001b[0m     \u001b[38;5;28mself\u001b[39m\u001b[38;5;241m.\u001b[39mbuffer \u001b[38;5;241m=\u001b[39m \u001b[43mnp\u001b[49m\u001b[38;5;241;43m.\u001b[39;49m\u001b[43marray\u001b[49m\u001b[43m(\u001b[49m\u001b[43m)\u001b[49m \u001b[38;5;66;03m#setting to 2d vector of [msgID, data], (reset each tick?)\u001b[39;00m\n\u001b[1;32m      8\u001b[0m     \u001b[38;5;66;03m##likely need to switch to numpy arrays\u001b[39;00m\n\u001b[1;32m      9\u001b[0m \n\u001b[1;32m     10\u001b[0m     \n\u001b[0;32m   (...)\u001b[0m\n\u001b[1;32m     14\u001b[0m         \u001b[38;5;66;03m#party mode\u001b[39;00m\n\u001b[1;32m     15\u001b[0m         \u001b[38;5;66;03m#do not check faults, run raw pedal:torque mapping (1-1)\u001b[39;00m\n\u001b[1;32m     16\u001b[0m     \u001b[38;5;28mself\u001b[39m\u001b[38;5;241m.\u001b[39mtestvalue \u001b[38;5;241m=\u001b[39m \u001b[38;5;241m2\u001b[39m\n",
      "\u001b[0;31mTypeError\u001b[0m: array() missing required argument 'object' (pos 0)"
     ]
    }
   ],
   "source": [
    "application = Application()\n",
    "#application.calcTorque()\n",
    "print(application.profile)\n",
    "application.checkfaults()\n",
    "\n",
    "#arbitrary test data\n",
    "data = 1280349\n",
    "application.buffer = [[0,0x0AB],[data]]\n",
    "\n",
    "\n",
    "print(application.buffer)\n",
    "application.tick()\n",
    "#if application.faultID in application.IDs:\n",
    "#    print(\"we fucked\")"
   ]
  },
  {
   "cell_type": "code",
   "execution_count": 2,
   "id": "8a1a033d-2ba4-414d-a04c-5aaa7054d627",
   "metadata": {
    "tags": []
   },
   "outputs": [],
   "source": [
    "import can\n",
    "from can import Bus, Message, BufferedReader\n",
    "import inspect\n",
    "\n",
    "#x = Message()\n",
    "#print (x.arbitration_id)\n",
    "#has arbitration_id as a member variable via slots, can call and read\n"
   ]
  },
  {
   "cell_type": "code",
   "execution_count": 4,
   "id": "ca377e0c-821b-4e02-9a32-0c8b06683c09",
   "metadata": {
    "tags": []
   },
   "outputs": [
    {
     "ename": "OSError",
     "evalue": "[Errno 43] Protocol not supported",
     "output_type": "error",
     "traceback": [
      "\u001b[0;31m---------------------------------------------------------------------------\u001b[0m",
      "\u001b[0;31mOSError\u001b[0m                                   Traceback (most recent call last)",
      "Cell \u001b[0;32mIn[4], line 1\u001b[0m\n\u001b[0;32m----> 1\u001b[0m my_bus \u001b[38;5;241m=\u001b[39m \u001b[43mcan\u001b[49m\u001b[38;5;241;43m.\u001b[39;49m\u001b[43mBus\u001b[49m\u001b[43m(\u001b[49m\u001b[43minterface\u001b[49m\u001b[38;5;241;43m=\u001b[39;49m\u001b[38;5;124;43m'\u001b[39;49m\u001b[38;5;124;43msocketcan\u001b[39;49m\u001b[38;5;124;43m'\u001b[39;49m\u001b[43m,\u001b[49m\u001b[43m \u001b[49m\u001b[43mchannel\u001b[49m\u001b[38;5;241;43m=\u001b[39;49m\u001b[38;5;124;43m'\u001b[39;49m\u001b[38;5;124;43mcan0\u001b[39;49m\u001b[38;5;124;43m'\u001b[39;49m\u001b[43m,\u001b[49m\u001b[43m \u001b[49m\u001b[43mbitrate\u001b[49m\u001b[38;5;241;43m=\u001b[39;49m\u001b[38;5;241;43m500000\u001b[39;49m\u001b[43m)\u001b[49m\n\u001b[1;32m      3\u001b[0m \u001b[38;5;28;01mdef\u001b[39;00m \u001b[38;5;21mtorqueCmd\u001b[39m(bus, torque):\n\u001b[1;32m      4\u001b[0m \u001b[38;5;250m    \u001b[39m\u001b[38;5;124;03m\"\"\"Sends a single message.\"\"\"\u001b[39;00m\n",
      "File \u001b[0;32m~/anaconda3/lib/python3.9/site-packages/can/util.py:369\u001b[0m, in \u001b[0;36mdeprecated_args_alias.<locals>.deco.<locals>.wrapper\u001b[0;34m(*args, **kwargs)\u001b[0m\n\u001b[1;32m    360\u001b[0m \u001b[38;5;129m@functools\u001b[39m\u001b[38;5;241m.\u001b[39mwraps(f)\n\u001b[1;32m    361\u001b[0m \u001b[38;5;28;01mdef\u001b[39;00m \u001b[38;5;21mwrapper\u001b[39m(\u001b[38;5;241m*\u001b[39margs, \u001b[38;5;241m*\u001b[39m\u001b[38;5;241m*\u001b[39mkwargs):\n\u001b[1;32m    362\u001b[0m     _rename_kwargs(\n\u001b[1;32m    363\u001b[0m         func_name\u001b[38;5;241m=\u001b[39mf\u001b[38;5;241m.\u001b[39m\u001b[38;5;18m__name__\u001b[39m,\n\u001b[1;32m    364\u001b[0m         start\u001b[38;5;241m=\u001b[39mdeprecation_start,\n\u001b[0;32m   (...)\u001b[0m\n\u001b[1;32m    367\u001b[0m         aliases\u001b[38;5;241m=\u001b[39maliases,\n\u001b[1;32m    368\u001b[0m     )\n\u001b[0;32m--> 369\u001b[0m     \u001b[38;5;28;01mreturn\u001b[39;00m \u001b[43mf\u001b[49m\u001b[43m(\u001b[49m\u001b[38;5;241;43m*\u001b[39;49m\u001b[43margs\u001b[49m\u001b[43m,\u001b[49m\u001b[43m \u001b[49m\u001b[38;5;241;43m*\u001b[39;49m\u001b[38;5;241;43m*\u001b[39;49m\u001b[43mkwargs\u001b[49m\u001b[43m)\u001b[49m\n",
      "File \u001b[0;32m~/anaconda3/lib/python3.9/site-packages/can/interface.py:138\u001b[0m, in \u001b[0;36mBus.__new__\u001b[0;34m(cls, channel, interface, config_context, ignore_config, **kwargs)\u001b[0m\n\u001b[1;32m    136\u001b[0m     bus \u001b[38;5;241m=\u001b[39m \u001b[38;5;28mcls\u001b[39m(\u001b[38;5;241m*\u001b[39m\u001b[38;5;241m*\u001b[39mkwargs)\n\u001b[1;32m    137\u001b[0m \u001b[38;5;28;01melse\u001b[39;00m:\n\u001b[0;32m--> 138\u001b[0m     bus \u001b[38;5;241m=\u001b[39m \u001b[38;5;28;43mcls\u001b[39;49m\u001b[43m(\u001b[49m\u001b[43mchannel\u001b[49m\u001b[43m,\u001b[49m\u001b[43m \u001b[49m\u001b[38;5;241;43m*\u001b[39;49m\u001b[38;5;241;43m*\u001b[39;49m\u001b[43mkwargs\u001b[49m\u001b[43m)\u001b[49m\n\u001b[1;32m    140\u001b[0m \u001b[38;5;28;01mreturn\u001b[39;00m cast(BusABC, bus)\n",
      "File \u001b[0;32m~/anaconda3/lib/python3.9/site-packages/can/interfaces/socketcan/socketcan.py:652\u001b[0m, in \u001b[0;36mSocketcanBus.__init__\u001b[0;34m(self, channel, receive_own_messages, local_loopback, fd, can_filters, ignore_rx_error_frames, **kwargs)\u001b[0m\n\u001b[1;32m    611\u001b[0m \u001b[38;5;28;01mdef\u001b[39;00m \u001b[38;5;21m__init__\u001b[39m(\n\u001b[1;32m    612\u001b[0m     \u001b[38;5;28mself\u001b[39m,\n\u001b[1;32m    613\u001b[0m     channel: \u001b[38;5;28mstr\u001b[39m \u001b[38;5;241m=\u001b[39m \u001b[38;5;124m\"\u001b[39m\u001b[38;5;124m\"\u001b[39m,\n\u001b[0;32m   (...)\u001b[0m\n\u001b[1;32m    619\u001b[0m     \u001b[38;5;241m*\u001b[39m\u001b[38;5;241m*\u001b[39mkwargs,\n\u001b[1;32m    620\u001b[0m ) \u001b[38;5;241m-\u001b[39m\u001b[38;5;241m>\u001b[39m \u001b[38;5;28;01mNone\u001b[39;00m:\n\u001b[1;32m    621\u001b[0m \u001b[38;5;250m    \u001b[39m\u001b[38;5;124;03m\"\"\"Creates a new socketcan bus.\u001b[39;00m\n\u001b[1;32m    622\u001b[0m \n\u001b[1;32m    623\u001b[0m \u001b[38;5;124;03m    If setting some socket options fails, an error will be printed\u001b[39;00m\n\u001b[0;32m   (...)\u001b[0m\n\u001b[1;32m    650\u001b[0m \u001b[38;5;124;03m        If incoming error frames should be discarded.\u001b[39;00m\n\u001b[1;32m    651\u001b[0m \u001b[38;5;124;03m    \"\"\"\u001b[39;00m\n\u001b[0;32m--> 652\u001b[0m     \u001b[38;5;28mself\u001b[39m\u001b[38;5;241m.\u001b[39msocket \u001b[38;5;241m=\u001b[39m \u001b[43mcreate_socket\u001b[49m\u001b[43m(\u001b[49m\u001b[43m)\u001b[49m\n\u001b[1;32m    653\u001b[0m     \u001b[38;5;28mself\u001b[39m\u001b[38;5;241m.\u001b[39mchannel \u001b[38;5;241m=\u001b[39m channel\n\u001b[1;32m    654\u001b[0m     \u001b[38;5;28mself\u001b[39m\u001b[38;5;241m.\u001b[39mchannel_info \u001b[38;5;241m=\u001b[39m \u001b[38;5;124mf\u001b[39m\u001b[38;5;124m\"\u001b[39m\u001b[38;5;124msocketcan channel \u001b[39m\u001b[38;5;124m'\u001b[39m\u001b[38;5;132;01m{\u001b[39;00mchannel\u001b[38;5;132;01m}\u001b[39;00m\u001b[38;5;124m'\u001b[39m\u001b[38;5;124m\"\u001b[39m\n",
      "File \u001b[0;32m~/anaconda3/lib/python3.9/site-packages/can/interfaces/socketcan/socketcan.py:493\u001b[0m, in \u001b[0;36mcreate_socket\u001b[0;34m()\u001b[0m\n\u001b[1;32m    489\u001b[0m \u001b[38;5;28;01mdef\u001b[39;00m \u001b[38;5;21mcreate_socket\u001b[39m() \u001b[38;5;241m-\u001b[39m\u001b[38;5;241m>\u001b[39m socket\u001b[38;5;241m.\u001b[39msocket:\n\u001b[1;32m    490\u001b[0m \u001b[38;5;250m    \u001b[39m\u001b[38;5;124;03m\"\"\"Creates a raw CAN socket. The socket will\u001b[39;00m\n\u001b[1;32m    491\u001b[0m \u001b[38;5;124;03m    be returned unbound to any interface.\u001b[39;00m\n\u001b[1;32m    492\u001b[0m \u001b[38;5;124;03m    \"\"\"\u001b[39;00m\n\u001b[0;32m--> 493\u001b[0m     sock \u001b[38;5;241m=\u001b[39m \u001b[43msocket\u001b[49m\u001b[38;5;241;43m.\u001b[39;49m\u001b[43msocket\u001b[49m\u001b[43m(\u001b[49m\u001b[43mconstants\u001b[49m\u001b[38;5;241;43m.\u001b[39;49m\u001b[43mPF_CAN\u001b[49m\u001b[43m,\u001b[49m\u001b[43m \u001b[49m\u001b[43msocket\u001b[49m\u001b[38;5;241;43m.\u001b[39;49m\u001b[43mSOCK_RAW\u001b[49m\u001b[43m,\u001b[49m\u001b[43m \u001b[49m\u001b[43mconstants\u001b[49m\u001b[38;5;241;43m.\u001b[39;49m\u001b[43mCAN_RAW\u001b[49m\u001b[43m)\u001b[49m\n\u001b[1;32m    495\u001b[0m     log\u001b[38;5;241m.\u001b[39minfo(\u001b[38;5;124m\"\u001b[39m\u001b[38;5;124mCreated a socket\u001b[39m\u001b[38;5;124m\"\u001b[39m)\n\u001b[1;32m    497\u001b[0m     \u001b[38;5;28;01mreturn\u001b[39;00m sock\n",
      "File \u001b[0;32m~/anaconda3/lib/python3.9/socket.py:232\u001b[0m, in \u001b[0;36msocket.__init__\u001b[0;34m(self, family, type, proto, fileno)\u001b[0m\n\u001b[1;32m    230\u001b[0m     \u001b[38;5;28;01mif\u001b[39;00m proto \u001b[38;5;241m==\u001b[39m \u001b[38;5;241m-\u001b[39m\u001b[38;5;241m1\u001b[39m:\n\u001b[1;32m    231\u001b[0m         proto \u001b[38;5;241m=\u001b[39m \u001b[38;5;241m0\u001b[39m\n\u001b[0;32m--> 232\u001b[0m \u001b[43m_socket\u001b[49m\u001b[38;5;241;43m.\u001b[39;49m\u001b[43msocket\u001b[49m\u001b[38;5;241;43m.\u001b[39;49m\u001b[38;5;21;43m__init__\u001b[39;49m\u001b[43m(\u001b[49m\u001b[38;5;28;43mself\u001b[39;49m\u001b[43m,\u001b[49m\u001b[43m \u001b[49m\u001b[43mfamily\u001b[49m\u001b[43m,\u001b[49m\u001b[43m \u001b[49m\u001b[38;5;28;43mtype\u001b[39;49m\u001b[43m,\u001b[49m\u001b[43m \u001b[49m\u001b[43mproto\u001b[49m\u001b[43m,\u001b[49m\u001b[43m \u001b[49m\u001b[43mfileno\u001b[49m\u001b[43m)\u001b[49m\n\u001b[1;32m    233\u001b[0m \u001b[38;5;28mself\u001b[39m\u001b[38;5;241m.\u001b[39m_io_refs \u001b[38;5;241m=\u001b[39m \u001b[38;5;241m0\u001b[39m\n\u001b[1;32m    234\u001b[0m \u001b[38;5;28mself\u001b[39m\u001b[38;5;241m.\u001b[39m_closed \u001b[38;5;241m=\u001b[39m \u001b[38;5;28;01mFalse\u001b[39;00m\n",
      "\u001b[0;31mOSError\u001b[0m: [Errno 43] Protocol not supported"
     ]
    }
   ],
   "source": [
    "\n",
    "my_bus = can.Bus(interface='socketcan', channel='can0', bitrate=500000)\n",
    "\n",
    "def torqueCmd(bus, torque):\n",
    "    \"\"\"Sends a single message.\"\"\"\n",
    "    # this uses the default configuration (for example from the config file)\n",
    "    # see https://python-can.readthedocs.io/en/stable/configuration.html\n",
    "    with can.Bus(interface='socketcan', channel='vcan0', bitrate=500000) as bus:\n",
    "\n",
    "        #torque must be smooth function returning value between between 0 and 1\n",
    "        torquebyte1, torquebyte2 = struct.pack('<h',torque)\n",
    "        speedbyte1 = 0\n",
    "        speedbyte2 = 0\n",
    "        directioncommand = 1\n",
    "        inverterruncommand = 1\n",
    "        #last two bits are torque limits, disregard for us\n",
    "        command_msg = can.Message(\n",
    "            arbitration_id=0x0C0, data=[torquebyte1, torquebyte2, speedbyte1, speedbyte2, 1, 1, 0, 0], is_extended_id=False\n",
    "        )\n",
    "        try:\n",
    "            bus.send(command_msg)\n",
    "            print(f\"Message sent on {bus.channel_info}\")\n",
    "        except can.CanError:\n",
    "            print(\"Message NOT sent\")\n",
    "\n",
    "def errorParser(bus):\n",
    "    messagequeue = BufferedReader()\n",
    "    msg = my_bus.recv() #need to define my_bus and have it chck outside of the function\n",
    "\n",
    "    # now either call\n",
    "    x = BufferedReader(msg)\n",
    "    print(type(x))\n",
    "    # or\n",
    "    #listener.on_message_received(msg)\n",
    "\n",
    "    # Important to ensure all outputs are flushed\n",
    "    BufferedReader.stop()\n",
    "    \n",
    "            "
   ]
  },
  {
   "cell_type": "code",
   "execution_count": null,
   "id": "15865389-f2f2-43dc-9dae-9bc1f42e619f",
   "metadata": {},
   "outputs": [],
   "source": []
  }
 ],
 "metadata": {
  "kernelspec": {
   "display_name": "Python 3 (ipykernel)",
   "language": "python",
   "name": "python3"
  },
  "language_info": {
   "codemirror_mode": {
    "name": "ipython",
    "version": 3
   },
   "file_extension": ".py",
   "mimetype": "text/x-python",
   "name": "python",
   "nbconvert_exporter": "python",
   "pygments_lexer": "ipython3",
   "version": "3.9.16"
  }
 },
 "nbformat": 4,
 "nbformat_minor": 5
}
