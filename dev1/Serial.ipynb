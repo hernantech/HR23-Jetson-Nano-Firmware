{
 "cells": [
  {
   "cell_type": "code",
   "execution_count": null,
   "id": "6cf40e86-0e41-4d71-bb46-9765fee1c359",
   "metadata": {
    "tags": []
   },
   "outputs": [],
   "source": [
    "import "
   ]
  },
  {
   "cell_type": "code",
   "execution_count": null,
   "id": "0263b275-9297-4d83-b711-898b8263fa50",
   "metadata": {
    "tags": []
   },
   "outputs": [],
   "source": [
    "serial_port = serial.Serial(\n",
    "    port=\"/dev/ttyTHS2\",\n",
    "    baudrate=115200,\n",
    "    bytesize=serial.EIGHTBITS,\n",
    "    parity=serial.PARITY_NONE,\n",
    "    stopbits=serial.STOPBITS_ONE,\n",
    "    rtscts=True,\n",
    ")"
   ]
  },
  {
   "cell_type": "code",
   "execution_count": null,
   "id": "fa3d8598-1913-496d-a45f-914049690014",
   "metadata": {
    "tags": []
   },
   "outputs": [],
   "source": [
    "time.sleep(1)\n",
    "\n",
    "print('serial port', serial_port)"
   ]
  },
  {
   "cell_type": "code",
   "execution_count": null,
   "id": "69e6189d-c673-41c9-aa62-b540dfa0d7f3",
   "metadata": {
    "tags": []
   },
   "outputs": [],
   "source": [
    "s = serial_port.read(100)\n",
    "print(s)"
   ]
  },
  {
   "cell_type": "code",
   "execution_count": 12,
   "id": "80cff30d-32ed-47c4-a69f-56a6420d3e7f",
   "metadata": {
    "tags": []
   },
   "outputs": [
    {
     "ename": "AttributeError",
     "evalue": "'str' object has no attribute 'bytearray'",
     "output_type": "error",
     "traceback": [
      "\u001b[0;31m---------------------------------------------------------------------------\u001b[0m",
      "\u001b[0;31mAttributeError\u001b[0m                            Traceback (most recent call last)",
      "\u001b[0;32m/tmp/ipykernel_8356/1417883391.py\u001b[0m in \u001b[0;36m<module>\u001b[0;34m\u001b[0m\n\u001b[1;32m     20\u001b[0m                 \u001b[0;32mreturn\u001b[0m \u001b[0mr\u001b[0m\u001b[0;34m\u001b[0m\u001b[0;34m\u001b[0m\u001b[0m\n\u001b[1;32m     21\u001b[0m \u001b[0mstring\u001b[0m \u001b[0;34m=\u001b[0m \u001b[0;34m\"b'ADC0_CH0: 784\\r\\n' <class 'bytes'> b'ADC0_CH1: 485\\r\\n' <class 'bytes'> b'ADC0_CH2: 447\\r\\n' <class 'bytes'>\"\u001b[0m\u001b[0;34m\u001b[0m\u001b[0;34m\u001b[0m\u001b[0m\n\u001b[0;32m---> 22\u001b[0;31m \u001b[0mprint\u001b[0m\u001b[0;34m(\u001b[0m\u001b[0mreadline\u001b[0m\u001b[0;34m(\u001b[0m\u001b[0mstring\u001b[0m\u001b[0;34m)\u001b[0m\u001b[0;34m)\u001b[0m\u001b[0;34m\u001b[0m\u001b[0;34m\u001b[0m\u001b[0m\n\u001b[0m",
      "\u001b[0;32m/tmp/ipykernel_8356/1417883391.py\u001b[0m in \u001b[0;36mreadline\u001b[0;34m(self)\u001b[0m\n\u001b[1;32m      6\u001b[0m \u001b[0;34m\u001b[0m\u001b[0m\n\u001b[1;32m      7\u001b[0m \u001b[0;32mdef\u001b[0m \u001b[0mreadline\u001b[0m\u001b[0;34m(\u001b[0m\u001b[0mself\u001b[0m\u001b[0;34m)\u001b[0m\u001b[0;34m:\u001b[0m\u001b[0;34m\u001b[0m\u001b[0;34m\u001b[0m\u001b[0m\n\u001b[0;32m----> 8\u001b[0;31m         \u001b[0mi\u001b[0m \u001b[0;34m=\u001b[0m \u001b[0mself\u001b[0m\u001b[0;34m.\u001b[0m\u001b[0mbytearray\u001b[0m\u001b[0;34m(\u001b[0m\u001b[0;34m)\u001b[0m\u001b[0;34m.\u001b[0m\u001b[0mfind\u001b[0m\u001b[0;34m(\u001b[0m\u001b[0;34mb\"\\n\"\u001b[0m\u001b[0;34m)\u001b[0m\u001b[0;34m\u001b[0m\u001b[0;34m\u001b[0m\u001b[0m\n\u001b[0m\u001b[1;32m      9\u001b[0m         \u001b[0;32mif\u001b[0m \u001b[0mi\u001b[0m \u001b[0;34m>=\u001b[0m \u001b[0;36m0\u001b[0m\u001b[0;34m:\u001b[0m\u001b[0;34m\u001b[0m\u001b[0;34m\u001b[0m\u001b[0m\n\u001b[1;32m     10\u001b[0m             \u001b[0mr\u001b[0m \u001b[0;34m=\u001b[0m \u001b[0mself\u001b[0m\u001b[0;34m.\u001b[0m\u001b[0mbytearray\u001b[0m\u001b[0;34m(\u001b[0m\u001b[0;34m)\u001b[0m\u001b[0;34m[\u001b[0m\u001b[0;34m:\u001b[0m\u001b[0mi\u001b[0m\u001b[0;34m+\u001b[0m\u001b[0;36m1\u001b[0m\u001b[0;34m]\u001b[0m\u001b[0;34m\u001b[0m\u001b[0;34m\u001b[0m\u001b[0m\n",
      "\u001b[0;31mAttributeError\u001b[0m: 'str' object has no attribute 'bytearray'"
     ]
    }
   ],
   "source": [
    "import time\n",
    "import serial\n",
    "import sys\n",
    "\n",
    "#def process(data):\n",
    "    \n",
    "def readline(self):\n",
    "        i = self.bytearray().find(b\"\\n\")\n",
    "        if i >= 0:\n",
    "            r = self.bytearray()[:i+1]\n",
    "            self.buf = self.bytearray()[i+1:]\n",
    "            return r\n",
    "        while True:\n",
    "            i = max(1, min(2048, self.s.in_waiting))\n",
    "            data = self.s.read(i)\n",
    "            i = data.find(b\"\\n\")\n",
    "            if i >= 0:\n",
    "                r = self.bytearray() + data[:i+1]\n",
    "                self.bytearray()[0:] = data[i+1:]\n",
    "                return r\n",
    "string = \"b'ADC0_CH0: 784\\r\\n' <class 'bytes'> b'ADC0_CH1: 485\\r\\n' <class 'bytes'> b'ADC0_CH2: 447\\r\\n' <class 'bytes'>\"\n",
    "print(readline(string))"
   ]
  },
  {
   "cell_type": "code",
   "execution_count": 4,
   "id": "0556cb62-1da0-49f9-91f6-a45a342845c0",
   "metadata": {
    "tags": []
   },
   "outputs": [
    {
     "name": "stdout",
     "output_type": "stream",
     "text": [
      "UART Demonstration Program\n",
      "NVIDIA Jetson Nano Developer Kit\n",
      "serial port Serial<id=0x7f7d043630, open=True>(port='/dev/ttyTHS2', baudrate=115200, bytesize=8, parity='N', stopbits=1, timeout=None, xonxoff=False, rtscts=True, dsrdtr=False)\n"
     ]
    }
   ],
   "source": [
    "#!/usr/bin/python3\n",
    "import time\n",
    "import serial\n",
    "\n",
    "import sys\n",
    "\n",
    "print(\"UART Demonstration Program\")\n",
    "print(\"NVIDIA Jetson Nano Developer Kit\")\n",
    "\n",
    "\n",
    "serial_port = serial.Serial(\n",
    "    port=\"/dev/ttyTHS1\",\n",
    "    baudrate=115200,\n",
    "    bytesize=serial.EIGHTBITS,\n",
    "    parity=serial.PARITY_NONE,\n",
    "    stopbits=serial.STOPBITS_ONE,\n",
    "    rtscts=True,\n",
    ")\n",
    "# Wait a second to let the port initialize\n",
    "time.sleep(1)\n",
    "print('serial port', serial_port)\n",
    "\n",
    "try:\n",
    "    # Send a simple header\n",
    "    serial_port.write(\"UART Demonstration Program\\r\\n\".encode())\n",
    "    serial_port.write(\"NVIDIA Jetson Nano Developer Kit\\r\\n\".encode())\n",
    "    while True:\n",
    "        if serial_port.inWaiting() > 0:\n",
    "            data = serial_port.readline()\n",
    "            try:\n",
    "                print(data)\n",
    "                print(type(data))\n",
    "                process(data)\n",
    "                #print(data.decode(\"utf-8\"),\"\")\n",
    "                sys.stdout.flush()\n",
    "            except:\n",
    "                pass\n",
    "            serial_port.write(data)\n",
    "            # serial_port.write(data) # double echo?\n",
    "\n",
    "            # if we get a carriage return, add a line feed too\n",
    "            # \\r is a carriage return; \\n is a line feed\n",
    "            # This is to help the tty program on the other end \n",
    "            # Windows is \\r\\n for carriage return, line feed\n",
    "            # Macintosh and Linux use \\n\n",
    "            if data == \"\\r\".encode():\n",
    "                # For Windows boxen on the other end\n",
    "                serial_port.write(\"\\n\".encode())\n",
    "\n",
    "\n",
    "except KeyboardInterrupt:\n",
    "    print(\"Exiting Program\")\n",
    "\n",
    "except Exception as exception_error:\n",
    "    print(\"Error occurred. Exiting Program\")\n",
    "    print(\"Error: \" + str(exception_error))\n",
    "\n",
    "finally:\n",
    "    serial_port.close()\n",
    "    pass\n"
   ]
  },
  {
   "cell_type": "code",
   "execution_count": 96,
   "id": "97e5d853-dfeb-44f1-be1e-835ffe28f61d",
   "metadata": {
    "tags": []
   },
   "outputs": [],
   "source": [
    "string = \"b'ADC0_CH0: 784\\r\\n' b'ADC0_CH1: 485\\r\\n'  b'ADC0_CH2: 447\\r\\n' \"\n",
    "\n",
    "def testbytes(string):\n",
    "    string = string.split('\\n')\n",
    "    for i in range(3):\n",
    "        string[i] = string[i][-5:]\n",
    "    return string"
   ]
  },
  {
   "cell_type": "code",
   "execution_count": 98,
   "id": "f6e8159c-d520-4c1e-a08e-b1de0771de7b",
   "metadata": {
    "tags": []
   },
   "outputs": [
    {
     "data": {
      "text/plain": [
       "' 485\\r'"
      ]
     },
     "execution_count": 98,
     "metadata": {},
     "output_type": "execute_result"
    }
   ],
   "source": [
    "testbytes(string)[1]"
   ]
  },
  {
   "cell_type": "code",
   "execution_count": null,
   "id": "9599bb2a-ddef-49cb-bfc7-ea5aed8833df",
   "metadata": {},
   "outputs": [],
   "source": []
  }
 ],
 "metadata": {
  "kernelspec": {
   "display_name": "Python 3 (ipykernel)",
   "language": "python",
   "name": "python3"
  },
  "language_info": {
   "codemirror_mode": {
    "name": "ipython",
    "version": 3
   },
   "file_extension": ".py",
   "mimetype": "text/x-python",
   "name": "python",
   "nbconvert_exporter": "python",
   "pygments_lexer": "ipython3",
   "version": "3.9.16"
  }
 },
 "nbformat": 4,
 "nbformat_minor": 5
}
